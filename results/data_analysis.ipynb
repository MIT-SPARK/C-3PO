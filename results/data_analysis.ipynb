{
 "cells": [
  {
   "cell_type": "code",
   "execution_count": 1,
   "id": "f47ae050",
   "metadata": {},
   "outputs": [
    {
     "name": "stdout",
     "output_type": "stream",
     "text": [
      "Jupyter environment detected. Enabling Open3D WebVisualizer.\n",
      "[Open3D INFO] WebRTC GUI backend enabled.\n",
      "[Open3D INFO] WebRTCWindowSystem: HTTP handshake server disabled.\n"
     ]
    }
   ],
   "source": [
    "import sys\n",
    "sys.path.append(\"../\")\n",
    "\n",
    "from c3po.datasets.shapenet import ShapeNet"
   ]
  },
  {
   "cell_type": "code",
   "execution_count": 2,
   "id": "4b6c0d17",
   "metadata": {},
   "outputs": [],
   "source": [
    "dset_easy = ShapeNet(type='sim',\n",
    "                     object='airplane',\n",
    "                     length=10000,\n",
    "                     num_points=1000,\n",
    "                     adv_option='easy')"
   ]
  },
  {
   "cell_type": "code",
   "execution_count": 3,
   "id": "189b5239",
   "metadata": {},
   "outputs": [],
   "source": [
    "dset_hard = ShapeNet(type='sim',\n",
    "                     object='airplane',\n",
    "                     length=10000,\n",
    "                     num_points=1000,\n",
    "                     adv_option='hard')"
   ]
  },
  {
   "cell_type": "code",
   "execution_count": null,
   "id": "03e248a3",
   "metadata": {},
   "outputs": [],
   "source": [
    "\n",
    "\n"
   ]
  }
 ],
 "metadata": {
  "kernelspec": {
   "display_name": "Python 3",
   "language": "python",
   "name": "python3"
  },
  "language_info": {
   "codemirror_mode": {
    "name": "ipython",
    "version": 3
   },
   "file_extension": ".py",
   "mimetype": "text/x-python",
   "name": "python",
   "nbconvert_exporter": "python",
   "pygments_lexer": "ipython3",
   "version": "3.9.7"
  }
 },
 "nbformat": 4,
 "nbformat_minor": 5
}
