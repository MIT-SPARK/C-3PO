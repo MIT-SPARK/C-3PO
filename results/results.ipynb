{
 "cells": [
  {
   "cell_type": "code",
   "execution_count": 1,
   "id": "525e8f80",
   "metadata": {},
   "outputs": [
    {
     "name": "stdout",
     "output_type": "stream",
     "text": [
      "Jupyter environment detected. Enabling Open3D WebVisualizer.\n",
      "[Open3D INFO] WebRTC GUI backend enabled.\n",
      "[Open3D INFO] WebRTCWindowSystem: HTTP handshake server disabled.\n"
     ]
    }
   ],
   "source": [
    "import ipywidgets as widgets\n",
    "\n",
    "import results\n",
    "from results import dd_dataset, dd_object, dd_detector, dd_metric, slide_adds_th, slide_adds_auc_th"
   ]
  },
  {
   "cell_type": "markdown",
   "id": "8f19ae84",
   "metadata": {},
   "source": [
    "## Threshold ADD-S, ADD-S AUC Table"
   ]
  },
  {
   "cell_type": "code",
   "execution_count": 2,
   "id": "88160358",
   "metadata": {},
   "outputs": [
    {
     "data": {
      "application/vnd.jupyter.widget-view+json": {
       "model_id": "7f21d261f5cf4bc59bc5497f9002c1ef",
       "version_major": 2,
       "version_minor": 0
      },
      "text/plain": [
       "interactive(children=(Dropdown(description='Dataset', options=('shapenet.sim.easy', 'shapenet.sim.hard', 'shap…"
      ]
     },
     "metadata": {},
     "output_type": "display_data"
    }
   ],
   "source": [
    "out = widgets.interactive(results.table, \n",
    "                          my_dataset=dd_dataset, \n",
    "                          my_object=dd_object, \n",
    "                          my_detector=dd_detector,\n",
    "                          my_adds_th=slide_adds_th,\n",
    "                          my_adds_auc_th=slide_adds_auc_th)\n",
    "display(out)"
   ]
  },
  {
   "cell_type": "markdown",
   "id": "78e04ef9",
   "metadata": {},
   "source": [
    "## Evaluation Metric Distribution"
   ]
  },
  {
   "cell_type": "code",
   "execution_count": 3,
   "id": "b86b85cf",
   "metadata": {
    "scrolled": false
   },
   "outputs": [
    {
     "data": {
      "application/vnd.jupyter.widget-view+json": {
       "model_id": "faf0745d15154ffd898117885d50a944",
       "version_major": 2,
       "version_minor": 0
      },
      "text/plain": [
       "interactive(children=(Dropdown(description='Dataset', options=('shapenet.sim.easy', 'shapenet.sim.hard', 'shap…"
      ]
     },
     "metadata": {},
     "output_type": "display_data"
    }
   ],
   "source": [
    "out = widgets.interactive(results.plot, my_dataset=dd_dataset, my_object=dd_object, my_detector=dd_detector, my_metric=dd_metric)\n",
    "display(out)"
   ]
  },
  {
   "cell_type": "markdown",
   "id": "e6c92484",
   "metadata": {},
   "source": [
    "## Certifiable Instances"
   ]
  },
  {
   "cell_type": "code",
   "execution_count": null,
   "id": "06304155",
   "metadata": {},
   "outputs": [],
   "source": []
  },
  {
   "cell_type": "markdown",
   "id": "262e5a22",
   "metadata": {},
   "source": [
    "## CAD Model"
   ]
  },
  {
   "cell_type": "code",
   "execution_count": null,
   "id": "145db1c6",
   "metadata": {},
   "outputs": [],
   "source": []
  },
  {
   "cell_type": "code",
   "execution_count": null,
   "id": "85990e2a",
   "metadata": {},
   "outputs": [],
   "source": []
  }
 ],
 "metadata": {
  "kernelspec": {
   "display_name": "Python 3",
   "language": "python",
   "name": "python3"
  },
  "language_info": {
   "codemirror_mode": {
    "name": "ipython",
    "version": 3
   },
   "file_extension": ".py",
   "mimetype": "text/x-python",
   "name": "python",
   "nbconvert_exporter": "python",
   "pygments_lexer": "ipython3",
   "version": "3.9.7"
  }
 },
 "nbformat": 4,
 "nbformat_minor": 5
}
