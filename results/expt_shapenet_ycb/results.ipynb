{
 "cells": [
  {
   "cell_type": "code",
   "execution_count": 1,
   "id": "525e8f80",
   "metadata": {
    "pycharm": {
     "name": "#%%\n"
    }
   },
   "outputs": [
    {
     "name": "stdout",
     "output_type": "stream",
     "text": [
      "Jupyter environment detected. Enabling Open3D WebVisualizer.\n",
      "[Open3D INFO] WebRTC GUI backend enabled.\n",
      "[Open3D INFO] WebRTCWindowSystem: HTTP handshake server disabled.\n"
     ]
    }
   ],
   "source": [
    "import ipywidgets as widgets\n",
    "\n",
    "import results\n",
    "from results import dd_dataset, dd_object, dd_detector, dd_metric, slide_adds_th, slide_adds_auc_th"
   ]
  },
  {
   "cell_type": "markdown",
   "id": "8f19ae84",
   "metadata": {
    "pycharm": {
     "name": "#%% md\n"
    }
   },
   "source": [
    "## Threshold ADD-S and ADD-S AUC"
   ]
  },
  {
   "cell_type": "code",
   "execution_count": 2,
   "id": "88160358",
   "metadata": {
    "pycharm": {
     "name": "#%%\n"
    }
   },
   "outputs": [
    {
     "data": {
      "application/vnd.jupyter.widget-view+json": {
       "model_id": "413f36aea32f4feaa2e4bb78437ce515",
       "version_major": 2,
       "version_minor": 0
      },
      "text/plain": [
       "interactive(children=(Dropdown(description='Dataset', options=('shapenet.sim.easy', 'shapenet.sim.hard', 'shap…"
      ]
     },
     "metadata": {},
     "output_type": "display_data"
    }
   ],
   "source": [
    "out = widgets.interactive(results.table, \n",
    "                          my_dataset=dd_dataset, \n",
    "                          my_object=dd_object, \n",
    "                          my_detector=dd_detector,\n",
    "                          my_adds_th=slide_adds_th,\n",
    "                          my_adds_auc_th=slide_adds_auc_th)\n",
    "display(out)"
   ]
  },
  {
   "cell_type": "markdown",
   "id": "b7878bb9",
   "metadata": {
    "pycharm": {
     "name": "#%% md\n"
    }
   },
   "source": [
    "## Percent Certifiable"
   ]
  },
  {
   "cell_type": "code",
   "execution_count": 3,
   "id": "34e9ee5d",
   "metadata": {
    "pycharm": {
     "name": "#%%\n"
    }
   },
   "outputs": [
    {
     "data": {
      "application/vnd.jupyter.widget-view+json": {
       "model_id": "11d563d89acb46bc96fe5251f514156f",
       "version_major": 2,
       "version_minor": 0
      },
      "text/plain": [
       "interactive(children=(Dropdown(description='Dataset', options=('shapenet.sim.easy', 'shapenet.sim.hard', 'shap…"
      ]
     },
     "metadata": {},
     "output_type": "display_data"
    }
   ],
   "source": [
    "out = widgets.interactive(results.table_certifiable, my_dataset=dd_dataset, my_object=dd_object, my_detector=dd_detector)\n",
    "display(out)"
   ]
  },
  {
   "cell_type": "markdown",
   "id": "78e04ef9",
   "metadata": {
    "pycharm": {
     "name": "#%% md\n"
    }
   },
   "source": [
    "## Evaluation Metric Distribution"
   ]
  },
  {
   "cell_type": "code",
   "execution_count": 4,
   "id": "b86b85cf",
   "metadata": {
    "pycharm": {
     "name": "#%%\n"
    },
    "scrolled": false
   },
   "outputs": [
    {
     "data": {
      "application/vnd.jupyter.widget-view+json": {
       "model_id": "ff04ce1b7a304a01821fcbff6bfbecf2",
       "version_major": 2,
       "version_minor": 0
      },
      "text/plain": [
       "interactive(children=(Dropdown(description='Dataset', options=('shapenet.sim.easy', 'shapenet.sim.hard', 'shap…"
      ]
     },
     "metadata": {},
     "output_type": "display_data"
    }
   ],
   "source": [
    "out = widgets.interactive(results.plot, my_dataset=dd_dataset, my_object=dd_object, my_detector=dd_detector, my_metric=dd_metric)\n",
    "display(out)"
   ]
  },
  {
   "cell_type": "code",
   "execution_count": null,
   "id": "2e7ca5eb",
   "metadata": {
    "pycharm": {
     "name": "#%%\n"
    }
   },
   "outputs": [],
   "source": []
  }
 ],
 "metadata": {
  "kernelspec": {
   "display_name": "Python 3",
   "language": "python",
   "name": "python3"
  },
  "language_info": {
   "codemirror_mode": {
    "name": "ipython",
    "version": 3
   },
   "file_extension": ".py",
   "mimetype": "text/x-python",
   "name": "python",
   "nbconvert_exporter": "python",
   "pygments_lexer": "ipython3",
   "version": "3.9.7"
  }
 },
 "nbformat": 4,
 "nbformat_minor": 5
}